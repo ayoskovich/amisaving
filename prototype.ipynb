{
 "cells": [
  {
   "cell_type": "code",
   "execution_count": null,
   "metadata": {},
   "outputs": [],
   "source": [
    "import matplotlib.pyplot as plt\n",
    "import numpy as np\n",
    "\n",
    "import sympy\n",
    "from sympy import symbols\n",
    "from sympy import lambdify\n",
    "from sympy import latex\n",
    "from sympy import solve\n",
    "from sympy import Eq\n",
    "\n",
    "#%config InlineBackend.figure_format='retina'\n",
    "\n",
    "x = symbols('x');\n",
    "\n",
    "def build_cost(slope, inter=0):\n",
    "    \"\"\" Create the total cost curve.\n",
    "    \n",
    "    Returns a sympy equation.\n",
    "    \"\"\"\n",
    "    m, x, b = symbols('m x b')\n",
    "    COST = m*x + b\n",
    "    return COST.subs(m, slope).subs(b, inter)\n",
    "\n",
    "\n",
    "convert_title = lambda title : \"$\" + title + \"$\""
   ]
  },
  {
   "cell_type": "code",
   "execution_count": null,
   "metadata": {},
   "outputs": [],
   "source": [
    "FIXED_COST = 24  # Startup costs\n",
    "VAR_F = 2        # Variable cost if you go with \n",
    "\n",
    "VAR_V = 4        # Cost if total variable\n",
    "\n",
    "fixed = build_cost(slope=VAR_F, inter=FIXED_COST)\n",
    "variable = build_cost(slope=VAR_V)\n",
    "\n",
    "\n",
    "\n",
    "# Get where they're equal\n",
    "EQ = int(solve(Eq(fixed, variable))[0])\n",
    "FREQ = 'days'\n",
    "\n",
    "print(f'The cost curves are equal at {EQ}')\n",
    "print(f'With a use each {FREQ}, it would take {EQ} {FREQ} in order to make money.')\n",
    "\n",
    "lam_a = lambdify(x, fixed, modules=['numpy'])\n",
    "lam_b = lambdify(x, variable, modules=['numpy'])\n",
    "\n",
    "BUF = 20  # Before and after equal\n",
    "x_vals = np.linspace(EQ-BUF, EQ+BUF, 100)\n",
    "y_vals1 = lam_a(x_vals)\n",
    "y_vals2 = lam_b(x_vals)\n",
    "\n",
    "plt.plot(x_vals, y_vals1, label='With equipment: '  + convert_title(latex(fixed)));\n",
    "plt.plot(x_vals, y_vals2, label='Buying each day: ' + convert_title(latex(variable)));\n",
    "\n",
    "plt.axvline(x=EQ, color='green');\n",
    "\n",
    "plt.title('Cost curves');\n",
    "plt.legend();\n",
    "plt.gcf().set_figwidth(12);\n",
    "plt.gcf().set_figheight(7);"
   ]
  },
  {
   "cell_type": "code",
   "execution_count": null,
   "metadata": {},
   "outputs": [],
   "source": [
    "from bokeh.models import ColumnDataSource\n",
    "from bokeh.plotting import figure, output_notebook, show\n",
    "from bokeh.models import Span\n",
    "\n",
    "output_notebook()\n",
    "\n",
    "eq_solve = Span(location=EQ, dimension='height', line_width=2)  # Location where lines intersect\n",
    "\n",
    "source = ColumnDataSource(data=dict(\n",
    "    x=x_vals,\n",
    "    y1=y_vals1,\n",
    "    y2=y_vals2\n",
    "))\n",
    "\n",
    "p = figure(plot_width=400, plot_height=400, title=\"Total Cost\", \n",
    "           toolbar_location=None, tools=\"\")\n",
    "\n",
    "p.line(x='x', y='y1', source=source, color='red', line_width=2)\n",
    "p.line(x='x', y='y2', source=source, color='green', line_width=2)\n",
    "p.add_layout(eq_solve)\n",
    "\n",
    "show(p)"
   ]
  },
  {
   "cell_type": "markdown",
   "metadata": {},
   "source": [
    "### User input\n",
    "\n",
    "- Frequency units (day, week, month)\n",
    "- Frequency of use (number: 1, 2, 3) times per frequency unit\n",
    "- Cost per unit (no capital)\n",
    "- Cost per unit (with capital)\n",
    "\n",
    "### Output\n",
    "\n",
    "- How many frequency units until they're making money?\n",
    "- \\[Yes / No\\] will you save money if you use this once a day for 500 days?"
   ]
  }
 ],
 "metadata": {
  "kernelspec": {
   "display_name": "Python 3",
   "language": "python",
   "name": "python3"
  },
  "language_info": {
   "codemirror_mode": {
    "name": "ipython",
    "version": 3
   },
   "file_extension": ".py",
   "mimetype": "text/x-python",
   "name": "python",
   "nbconvert_exporter": "python",
   "pygments_lexer": "ipython3",
   "version": "3.8.2"
  }
 },
 "nbformat": 4,
 "nbformat_minor": 4
}
