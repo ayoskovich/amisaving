{
 "cells": [
  {
   "cell_type": "code",
   "execution_count": null,
   "metadata": {},
   "outputs": [],
   "source": [
    "import matplotlib.pyplot as plt\n",
    "import numpy as np\n",
    "\n",
    "import sympy\n",
    "from sympy import symbols\n",
    "from sympy import lambdify\n",
    "from sympy import latex\n",
    "from sympy import solve\n",
    "from sympy import Eq\n",
    "\n",
    "#%config InlineBackend.figure_format='retina'\n",
    "\n",
    "x = symbols('x');\n",
    "\n",
    "def build_cost(slope, inter=0):\n",
    "    \"\"\" Create the total cost curve.\n",
    "    \n",
    "    Returns a sympy equation.\n",
    "    \"\"\"\n",
    "    m, x, b = symbols('m x b')\n",
    "    COST = m*x**2 + b\n",
    "    return COST.subs(m, slope).subs(b, inter)\n",
    "\n",
    "\n",
    "convert_title = lambda title : \"$\" + title + \"$\""
   ]
  },
  {
   "cell_type": "code",
   "execution_count": null,
   "metadata": {},
   "outputs": [],
   "source": [
    "fixed = build_cost(slope=2, inter=24)\n",
    "variable = build_cost(slope=4)\n",
    "\n",
    "# Get where they're equal\n",
    "EQ = int(solve(Eq(fixed, variable))[0])\n",
    "FREQ = 'days'\n",
    "\n",
    "print(f'The cost curves are equal at {EQ}')\n",
    "print(f'With a use each {FREQ}, it would take {EQ} {FREQ} in order to make money.')\n",
    "\n",
    "lam_a = lambdify(x, fixed, modules=['numpy'])\n",
    "lam_b = lambdify(x, variable, modules=['numpy'])\n",
    "\n",
    "BUF = 20  # Before and after equal\n",
    "x_vals = np.linspace(EQ-BUF, EQ+BUF, 100)\n",
    "y_vals1 = lam_a(x_vals)\n",
    "y_vals2 = lam_b(x_vals)\n",
    "\n",
    "plt.plot(x_vals, y_vals1, label='With equipment: '  + convert_title(latex(fixed)));\n",
    "plt.plot(x_vals, y_vals2, label='Buying each day: ' + convert_title(latex(variable)));\n",
    "\n",
    "plt.axvline(x=EQ, color='green');\n",
    "\n",
    "plt.title('Cost curves');\n",
    "plt.legend();\n",
    "plt.gcf().set_figwidth(12);\n",
    "plt.gcf().set_figheight(7);"
   ]
  },
  {
   "cell_type": "markdown",
   "metadata": {},
   "source": [
    "### User input\n",
    "\n",
    "- Frequency units (day, week, month)\n",
    "- Frequency of use (number: 1, 2, 3) times per frequency unit\n",
    "- Cost per unit (no capital)\n",
    "- Cost per unit (with capital)\n",
    "\n",
    "### Output\n",
    "\n",
    "- How many frequency units until they're making money?\n",
    "- \\[Yes / No\\] will you save money if you use this once a day for 500 days?"
   ]
  },
  {
   "cell_type": "code",
   "execution_count": null,
   "metadata": {},
   "outputs": [],
   "source": [
    "from bokeh.plotting import figure, output_file, show, output_notebook\n",
    "\n",
    "# prepare some data\n",
    "x = [0.1, 0.5, 1.0, 1.5, 2.0, 2.5, 3.0]\n",
    "y0 = [i**2 for i in x]\n",
    "y1 = [10**i for i in x]\n",
    "y2 = [10**(i**2) for i in x]\n",
    "\n",
    "# output to static HTML file\n",
    "# output_file(\"log_lines.html\")\n",
    "output_notebook()\n",
    "\n",
    "# create a new plot\n",
    "p = figure(\n",
    "   tools=\"pan,box_zoom,reset,save\",\n",
    "   y_axis_type=\"log\", y_range=[0.001, 10**11], title=\"log axis example\",\n",
    "   x_axis_label='sections', y_axis_label='particles'\n",
    ")\n",
    "\n",
    "# add some renderers\n",
    "p.line(x, x, legend_label=\"y=x\")\n",
    "p.circle(x, x, legend_label=\"y=x\", fill_color=\"white\", size=8)\n",
    "p.line(x, y0, legend_label=\"y=x^2\", line_width=3)\n",
    "p.line(x, y1, legend_label=\"y=10^x\", line_color=\"red\")\n",
    "p.circle(x, y1, legend_label=\"y=10^x\", fill_color=\"red\", line_color=\"red\", size=6)\n",
    "p.line(x, y2, legend_label=\"y=10^x^2\", line_color=\"orange\", line_dash=\"4 4\")\n",
    "\n",
    "# show the results\n",
    "show(p)"
   ]
  },
  {
   "cell_type": "code",
   "execution_count": null,
   "metadata": {},
   "outputs": [],
   "source": []
  }
 ],
 "metadata": {
  "kernelspec": {
   "display_name": "Python 3",
   "language": "python",
   "name": "python3"
  },
  "language_info": {
   "codemirror_mode": {
    "name": "ipython",
    "version": 3
   },
   "file_extension": ".py",
   "mimetype": "text/x-python",
   "name": "python",
   "nbconvert_exporter": "python",
   "pygments_lexer": "ipython3",
   "version": "3.8.2"
  }
 },
 "nbformat": 4,
 "nbformat_minor": 4
}
