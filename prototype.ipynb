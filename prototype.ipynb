{
 "cells": [
  {
   "cell_type": "code",
   "execution_count": null,
   "metadata": {},
   "outputs": [],
   "source": [
    "import matplotlib.pyplot as plt\n",
    "import numpy as np\n",
    "\n",
    "import sympy\n",
    "from sympy import symbols\n",
    "from sympy import lambdify\n",
    "from sympy import latex\n",
    "\n",
    "def build_cost(slope, inter=0):\n",
    "    \"\"\" Create the total cost curve.\n",
    "    \n",
    "    Returns a sympy equation.\n",
    "    \"\"\"\n",
    "    m, x, b = symbols('m x b')\n",
    "    COST = m*x + b\n",
    "    return COST.subs(m, slope).subs(b, inter)\n",
    "\n",
    "\n",
    "fixed = build_cost(slope=2, inter=24)\n",
    "variable = build_cost(slope=4)"
   ]
  },
  {
   "cell_type": "code",
   "execution_count": null,
   "metadata": {},
   "outputs": [],
   "source": [
    "lam_a = lambdify(x, fixed, modules=['numpy'])\n",
    "lam_b = lambdify(x, variable, modules=['numpy'])\n",
    "\n",
    "x_vals = np.linspace(0, 20, 100)\n",
    "y_vals1 = lam_a(x_vals)\n",
    "y_vals2 = lam_b(x_vals)\n",
    "\n",
    "plt.plot(x_vals, y_vals1, label=latex(fixed));\n",
    "plt.plot(x_vals, y_vals2, label=latex(variable));\n",
    "plt.title('Cost curves');\n",
    "plt.legend();"
   ]
  },
  {
   "cell_type": "code",
   "execution_count": null,
   "metadata": {},
   "outputs": [],
   "source": [
    "a = pd.DataFrame({\n",
    "    'name':['anthony', 'bob', 'vale'],\n",
    "    'age':[23, 100, 22]\n",
    "})\n",
    "b = pd.DataFrame({\n",
    "    'name':['bob'],\n",
    "    'food':['tacos']\n",
    "})"
   ]
  },
  {
   "cell_type": "code",
   "execution_count": null,
   "metadata": {},
   "outputs": [],
   "source": [
    "a"
   ]
  },
  {
   "cell_type": "code",
   "execution_count": null,
   "metadata": {},
   "outputs": [],
   "source": [
    "b"
   ]
  },
  {
   "cell_type": "code",
   "execution_count": null,
   "metadata": {},
   "outputs": [],
   "source": [
    "pd.merge(a, b, how='outer', on='name')"
   ]
  },
  {
   "cell_type": "code",
   "execution_count": null,
   "metadata": {},
   "outputs": [],
   "source": [
    "SELECT a.*, b.* \n",
    "FROM names AS a \n",
    "LEFT JOIN foods AS b \n",
    "ON a.name = UPCASE(b.name)"
   ]
  }
 ],
 "metadata": {
  "kernelspec": {
   "display_name": "Python 3",
   "language": "python",
   "name": "python3"
  },
  "language_info": {
   "codemirror_mode": {
    "name": "ipython",
    "version": 3
   },
   "file_extension": ".py",
   "mimetype": "text/x-python",
   "name": "python",
   "nbconvert_exporter": "python",
   "pygments_lexer": "ipython3",
   "version": "3.8.2"
  }
 },
 "nbformat": 4,
 "nbformat_minor": 4
}
